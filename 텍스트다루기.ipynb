{
 "cells": [
  {
   "cell_type": "markdown",
   "metadata": {},
   "source": [
    "## 문자열을 줄여서 표시 \n",
    "\n",
    "### textwrap.shorten"
   ]
  },
  {
   "cell_type": "code",
   "execution_count": 2,
   "metadata": {},
   "outputs": [],
   "source": [
    "import textwrap"
   ]
  },
  {
   "cell_type": "code",
   "execution_count": 3,
   "metadata": {},
   "outputs": [
    {
     "data": {
      "text/plain": [
       "'Life is [...]'"
      ]
     },
     "execution_count": 3,
     "metadata": {},
     "output_type": "execute_result"
    }
   ],
   "source": [
    "textwrap.shorten(\"Life is too short, you need python\", width=15)"
   ]
  },
  {
   "cell_type": "markdown",
   "metadata": {},
   "source": [
    "- 한글도 가능하지만 1문자의 길이가 2가아닌 1로 줄어든다"
   ]
  },
  {
   "cell_type": "code",
   "execution_count": 4,
   "metadata": {},
   "outputs": [
    {
     "data": {
      "text/plain": [
       "'인생은 짧으니 [...]'"
      ]
     },
     "execution_count": 4,
     "metadata": {},
     "output_type": "execute_result"
    }
   ],
   "source": [
    "textwrap.shorten(\"인생은 짧으니 파이썬이 필요해\", width=15)"
   ]
  },
  {
   "cell_type": "markdown",
   "metadata": {},
   "source": [
    "- 축약표시를 [...] 에서 ...으로 바꾸고 싶다면 \n",
    "    - placeholder='...' 사용"
   ]
  },
  {
   "cell_type": "code",
   "execution_count": 5,
   "metadata": {},
   "outputs": [
    {
     "data": {
      "text/plain": [
       "'인생은 짧으니 파이썬이...'"
      ]
     },
     "execution_count": 5,
     "metadata": {},
     "output_type": "execute_result"
    }
   ],
   "source": [
    "textwrap.shorten(\"인생은 짧으니 파이썬이 필요해\", width=15, placeholder='...')"
   ]
  },
  {
   "cell_type": "markdown",
   "metadata": {},
   "source": [
    "## 긴 문장을 줄 바꿈\n",
    "\n",
    "### textwrap.wrap"
   ]
  },
  {
   "cell_type": "code",
   "execution_count": 14,
   "metadata": {},
   "outputs": [
    {
     "data": {
      "text/plain": [
       "'Life is too short, you need python. Life is too short, you need python. Life is too short, you need python. Life is too short, you need python. Life is too short, you need python. Life is too short, you need python. Life is too short, you need python. Life is too short, you need python. Life is too short, you need python. Life is too short, you need python. '"
      ]
     },
     "execution_count": 14,
     "metadata": {},
     "output_type": "execute_result"
    }
   ],
   "source": [
    "Long_text = 'Life is too short, you need python. ' * 10\n",
    "Long_text"
   ]
  },
  {
   "cell_type": "markdown",
   "metadata": {},
   "source": [
    "- textwrap을 사용해 긴 문장을 70자 단위로 줄바꿈"
   ]
  },
  {
   "cell_type": "code",
   "execution_count": 15,
   "metadata": {},
   "outputs": [
    {
     "data": {
      "text/plain": [
       "['Life is too short, you need python. Life is too short, you need',\n",
       " 'python. Life is too short, you need python. Life is too short, you',\n",
       " 'need python. Life is too short, you need python. Life is too short,',\n",
       " 'you need python. Life is too short, you need python. Life is too',\n",
       " 'short, you need python. Life is too short, you need python. Life is',\n",
       " 'too short, you need python.']"
      ]
     },
     "execution_count": 15,
     "metadata": {},
     "output_type": "execute_result"
    }
   ],
   "source": [
    "result = textwrap.wrap(Long_text, width=70)\n",
    "result"
   ]
  },
  {
   "cell_type": "markdown",
   "metadata": {},
   "source": [
    "- 그 이후 join()함수로 \\n 줄바꿈 문자를 넣어 하나로 합친다"
   ]
  },
  {
   "cell_type": "code",
   "execution_count": 16,
   "metadata": {},
   "outputs": [
    {
     "name": "stdout",
     "output_type": "stream",
     "text": [
      "Life is too short, you need python. Life is too short, you need\n",
      "python. Life is too short, you need python. Life is too short, you\n",
      "need python. Life is too short, you need python. Life is too short,\n",
      "you need python. Life is too short, you need python. Life is too\n",
      "short, you need python. Life is too short, you need python. Life is\n",
      "too short, you need python.\n"
     ]
    }
   ],
   "source": [
    "print('\\n'.join(result))"
   ]
  },
  {
   "cell_type": "markdown",
   "metadata": {},
   "source": [
    "### textwrap.fill 을 쓰면 한번에 할 수 있다"
   ]
  },
  {
   "cell_type": "code",
   "execution_count": 19,
   "metadata": {},
   "outputs": [
    {
     "name": "stdout",
     "output_type": "stream",
     "text": [
      "Life is too short, you need python. Life is too short, you need\n",
      "python. Life is too short, you need python. Life is too short, you\n",
      "need python. Life is too short, you need python. Life is too short,\n",
      "you need python. Life is too short, you need python. Life is too\n",
      "short, you need python. Life is too short, you need python. Life is\n",
      "too short, you need python.\n"
     ]
    }
   ],
   "source": [
    "result = textwrap.fill(Long_text, width=70)\n",
    "print(result)"
   ]
  },
  {
   "cell_type": "markdown",
   "metadata": {},
   "source": [
    "## 정규 표현식으로 개인 정보 보호\n",
    "\n",
    "#### re"
   ]
  },
  {
   "cell_type": "markdown",
   "metadata": {},
   "source": [
    "- 주민등록번호를 받았을 때 뒷자리는 가려서 나오게 설정\n",
    "    \n",
    "    1. 공백 문자를 기준으로 전체 텍스트를 나눈다(split() 함수 사용)\n",
    "    2. 나눈 단어가 주민등록번호 형식인지 확인\n",
    "    3. 주민등록번호 형식이라면 뒷자리를 *******로 마스킹\n",
    "    4. 나눈 단어를 다시 조립"
   ]
  },
  {
   "cell_type": "code",
   "execution_count": 1,
   "metadata": {},
   "outputs": [
    {
     "name": "stdout",
     "output_type": "stream",
     "text": [
      "\n",
      "홍길동의 주민 등록 번호는 800905-*******\n",
      "그리고 고길동의 주민 등록 번호는 700905-******* 입니다\n",
      "그러면 누가 형님일까요?\n"
     ]
    }
   ],
   "source": [
    "data = \"\"\"\n",
    "홍길동의 주민 등록 번호는 800905-1049118\n",
    "그리고 고길동의 주민 등록 번호는 700905-1059119 입니다\n",
    "그러면 누가 형님일까요?\"\"\"\n",
    "\n",
    "result = []\n",
    "for line in data.split(\"\\n\"):\n",
    "    word_result = []\n",
    "    for word in line.split(\" \"):\n",
    "        if len(word) == 14 and word[:6].isdigit() and word[7:].isdigit():\n",
    "            word = word[:6] + \"-\" + \"*******\"\n",
    "        word_result.append(word)\n",
    "    result.append(\" \".join(word_result))\n",
    "print(\"\\n\".join(result))"
   ]
  },
  {
   "cell_type": "code",
   "execution_count": 2,
   "metadata": {},
   "outputs": [],
   "source": [
    "import re"
   ]
  },
  {
   "cell_type": "code",
   "execution_count": 3,
   "metadata": {},
   "outputs": [
    {
     "name": "stdout",
     "output_type": "stream",
     "text": [
      "\n",
      "홍길동의 주민 등록 번호는 800905-*******\n",
      "그리고 고길동의 주민 등록 번호는 700905-******* 입니다\n",
      "그러면 누가 형님일까요?\n"
     ]
    }
   ],
   "source": [
    "pat = re.compile(\"(\\d{6})[-]\\d{7}\")\n",
    "print(pat.sub(\"\\g<1>-*******\", data))"
   ]
  },
  {
   "cell_type": "code",
   "execution_count": null,
   "metadata": {},
   "outputs": [],
   "source": []
  }
 ],
 "metadata": {
  "kernelspec": {
   "display_name": "Python 3",
   "language": "python",
   "name": "python3"
  },
  "language_info": {
   "codemirror_mode": {
    "name": "ipython",
    "version": 3
   },
   "file_extension": ".py",
   "mimetype": "text/x-python",
   "name": "python",
   "nbconvert_exporter": "python",
   "pygments_lexer": "ipython3",
   "version": "3.11.3"
  },
  "orig_nbformat": 4
 },
 "nbformat": 4,
 "nbformat_minor": 2
}
