{
 "cells": [
  {
   "cell_type": "markdown",
   "metadata": {},
   "source": [
    "## 데이터 크기를 줄여 전송하기\n",
    "\n",
    "### `zlib`"
   ]
  },
  {
   "cell_type": "code",
   "execution_count": 1,
   "metadata": {},
   "outputs": [
    {
     "name": "stdout",
     "output_type": "stream",
     "text": [
      "350000\n"
     ]
    }
   ],
   "source": [
    "data = \"Life is too short, You need Python.\" * 10000\n",
    "print(len(data))"
   ]
  },
  {
   "cell_type": "code",
   "execution_count": 3,
   "metadata": {},
   "outputs": [
    {
     "name": "stdout",
     "output_type": "stream",
     "text": [
      "1077\n",
      "350000\n"
     ]
    }
   ],
   "source": [
    "import zlib\n",
    "\n",
    "compress_data = zlib.compress(data.encode(encoding='utf-8'))\n",
    "print(len(compress_data))\n",
    "\n",
    "org_data = zlib.decompress(compress_data).decode('utf-8')\n",
    "print(len(org_data))"
   ]
  },
  {
   "cell_type": "markdown",
   "metadata": {},
   "source": [
    "## 데이터를 압축하여 파일로 저장\n",
    "\n",
    "### `gzip`"
   ]
  },
  {
   "cell_type": "code",
   "execution_count": 5,
   "metadata": {},
   "outputs": [],
   "source": [
    "import gzip\n",
    "\n",
    "with gzip.open('data.txt.gz', 'wb') as f:\n",
    "    f.write(data.encode('utf-8'))\n",
    "    \n",
    "with gzip.open('data.txt.gz', 'rb') as f:\n",
    "    read_data = f.read().decode('utf-8')\n",
    "    \n",
    "assert data == read_data"
   ]
  },
  {
   "cell_type": "code",
   "execution_count": null,
   "metadata": {},
   "outputs": [],
   "source": []
  }
 ],
 "metadata": {
  "kernelspec": {
   "display_name": "Python 3",
   "language": "python",
   "name": "python3"
  },
  "language_info": {
   "codemirror_mode": {
    "name": "ipython",
    "version": 3
   },
   "file_extension": ".py",
   "mimetype": "text/x-python",
   "name": "python",
   "nbconvert_exporter": "python",
   "pygments_lexer": "ipython3",
   "version": "3.11.3"
  },
  "orig_nbformat": 4
 },
 "nbformat": 4,
 "nbformat_minor": 2
}
