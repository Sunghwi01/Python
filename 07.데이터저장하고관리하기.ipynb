{
 "cells": [
  {
   "cell_type": "markdown",
   "metadata": {},
   "source": [
    "## 객체를 파일로 저장하고 불러오기\n",
    "\n",
    "### `pickle`"
   ]
  },
  {
   "cell_type": "code",
   "execution_count": 1,
   "metadata": {},
   "outputs": [],
   "source": [
    "data = {}\n",
    "data[1] = {'no' : 1, 'subject' : '안녕 피클', 'content' : '피클은 매우 간단합니다'}"
   ]
  },
  {
   "cell_type": "code",
   "execution_count": 2,
   "metadata": {},
   "outputs": [],
   "source": [
    "import pickle\n",
    "\n",
    "with open('data.p', 'wb') as f:\n",
    "    pickle.dump(data, f)"
   ]
  },
  {
   "cell_type": "code",
   "execution_count": 3,
   "metadata": {},
   "outputs": [
    {
     "data": {
      "text/plain": [
       "{1: {'no': 1, 'subject': '안녕 피클', 'content': '피클은 매우 간단합니다'}}"
      ]
     },
     "execution_count": 3,
     "metadata": {},
     "output_type": "execute_result"
    }
   ],
   "source": [
    "with open('data.p','rb') as f:\n",
    "    data = pickle.load(f)\n",
    "    \n",
    "data"
   ]
  },
  {
   "cell_type": "code",
   "execution_count": 4,
   "metadata": {},
   "outputs": [
    {
     "name": "stdout",
     "output_type": "stream",
     "text": [
      "1\n",
      "안녕 피클\n",
      "피클은 매우 간단합니다\n"
     ]
    }
   ],
   "source": [
    "def get_all_data():\n",
    "    try :\n",
    "        with open(\"data.p\", 'rb') as f:\n",
    "            return pickle.load(f)\n",
    "    except FileNotFoundError:\n",
    "        return {}\n",
    "    \n",
    "def add_data(no, subject, content):\n",
    "    data = get_all_data()\n",
    "    ## assert no not in data\n",
    "    data[no] = {'no' : no, 'subject' : subject, 'content' : content}\n",
    "    with open('data.p', 'wb') as f:\n",
    "        pickle.dump(data, f)\n",
    "        \n",
    "def get_data(no):\n",
    "    data = get_all_data()\n",
    "    return data[no]\n",
    "\n",
    "## 데이터 저장\n",
    "add_data(1, '안녕 피클', '피클은 매우 간단합니다')\n",
    "\n",
    "## 데이터 조회\n",
    "data = get_data(1)\n",
    "print(data['no'])\n",
    "print(data['subject'])\n",
    "print(data['content'])"
   ]
  },
  {
   "cell_type": "markdown",
   "metadata": {},
   "source": [
    "## 객체 변경에 따른 오류 방지\n",
    "\n",
    "### `copyreg`"
   ]
  },
  {
   "cell_type": "code",
   "execution_count": 5,
   "metadata": {},
   "outputs": [],
   "source": [
    "import pickle\n",
    "\n",
    "class Student:\n",
    "    def __init__(self, name, age):\n",
    "        self.name = name\n",
    "        self.age = age\n",
    "\n",
    "a = Student('임철희', 27)\n",
    "\n",
    "with open('student.p', 'wb') as f:\n",
    "    pickle.dump(a, f)"
   ]
  },
  {
   "cell_type": "code",
   "execution_count": 6,
   "metadata": {},
   "outputs": [
    {
     "name": "stdout",
     "output_type": "stream",
     "text": [
      "임철희\n"
     ]
    }
   ],
   "source": [
    "with open('student.p','rb') as f:\n",
    "    student = pickle.load(f)\n",
    "    \n",
    "print(student.name)     ## 임철희 출력"
   ]
  },
  {
   "cell_type": "code",
   "execution_count": 7,
   "metadata": {},
   "outputs": [],
   "source": [
    "class Student:\n",
    "    def __init__(self, name, age):\n",
    "        self.name = name\n",
    "        self.age = age\n",
    "        self.dummy = 'dummy'            ## dummy 속성 추가"
   ]
  },
  {
   "cell_type": "code",
   "execution_count": 8,
   "metadata": {},
   "outputs": [
    {
     "ename": "AttributeError",
     "evalue": "'Student' object has no attribute 'dummy'",
     "output_type": "error",
     "traceback": [
      "\u001b[1;31m---------------------------------------------------------------------------\u001b[0m",
      "\u001b[1;31mAttributeError\u001b[0m                            Traceback (most recent call last)",
      "Cell \u001b[1;32mIn[8], line 4\u001b[0m\n\u001b[0;32m      1\u001b[0m \u001b[39mwith\u001b[39;00m \u001b[39mopen\u001b[39m(\u001b[39m'\u001b[39m\u001b[39mstudent.p\u001b[39m\u001b[39m'\u001b[39m, \u001b[39m'\u001b[39m\u001b[39mrb\u001b[39m\u001b[39m'\u001b[39m) \u001b[39mas\u001b[39;00m f:\n\u001b[0;32m      2\u001b[0m     student \u001b[39m=\u001b[39m pickle\u001b[39m.\u001b[39mload(f)            \u001b[39m## dummy 속성이 생성되기 전에 저장한 pickle 데이터를 읽으면\u001b[39;00m\n\u001b[1;32m----> 4\u001b[0m \u001b[39mprint\u001b[39m(student\u001b[39m.\u001b[39;49mdummy)                    \u001b[39m## dummy 속성을 찾을 수 없다는 오류 발생 \u001b[39;00m\n",
      "\u001b[1;31mAttributeError\u001b[0m: 'Student' object has no attribute 'dummy'"
     ]
    }
   ],
   "source": [
    "with open('student.p', 'rb') as f:\n",
    "    student = pickle.load(f)            ## dummy 속성이 생성되기 전에 저장한 pickle 데이터를 읽으면\n",
    "    \n",
    "print(student.dummy)                    ## dummy 속성을 찾을 수 없다는 오류 발생 "
   ]
  },
  {
   "cell_type": "code",
   "execution_count": 9,
   "metadata": {},
   "outputs": [],
   "source": [
    "import copyreg\n",
    "\n",
    "class Student:\n",
    "    def __init__(self, name, age):\n",
    "        self.name = name\n",
    "        self.age = age\n",
    "        \n",
    "def pickle_student(student):\n",
    "    kwargs = student.__dict__\n",
    "    return unpickle_student, (kwargs, )\n",
    "\n",
    "def unpickle_student(kwargs):\n",
    "    return Student(**kwargs)\n",
    "\n",
    "copyreg.pickle(Student, pickle_student)\n",
    "\n",
    "a = Student('임철희', 27)\n",
    "with open('student.p', 'wb') as f:\n",
    "    pickle.dump(a, f)"
   ]
  },
  {
   "cell_type": "code",
   "execution_count": 10,
   "metadata": {},
   "outputs": [
    {
     "name": "stdout",
     "output_type": "stream",
     "text": [
      "dummy\n"
     ]
    }
   ],
   "source": [
    "class Student:\n",
    "    def __init__(self, name, age):\n",
    "        self.name = name\n",
    "        self.age = age\n",
    "        self.dummy = 'dummy'\n",
    "        \n",
    "def pickle_student(student):\n",
    "    kwargs = student.__dict__\n",
    "    return unpickle_student, (kwargs, )\n",
    "\n",
    "def unpickle_student(kwargs):\n",
    "    return Student(**kwargs)\n",
    "\n",
    "copyreg.pickle(Student, pickle_student)\n",
    "\n",
    "with open('student.p', 'rb') as f:\n",
    "    student = pickle.load(f)            ## unpickle_student() 함수를 호출한다\n",
    "    \n",
    "print(student.dummy)"
   ]
  },
  {
   "cell_type": "markdown",
   "metadata": {},
   "source": [
    "## 딕셔너리를 파일로 저장하려면\n",
    "\n",
    "### `shelve`"
   ]
  },
  {
   "cell_type": "code",
   "execution_count": 11,
   "metadata": {},
   "outputs": [],
   "source": [
    "def save(key, value):\n",
    "    \"\"\" key 에 대응하는 value를 저장한다. \"\"\"\n",
    "    pass\n",
    "\n",
    "def get(key):\n",
    "    \"\"\"key 에 저장된 value를 반환한다\"\"\"\n",
    "    pass"
   ]
  },
  {
   "cell_type": "code",
   "execution_count": 12,
   "metadata": {},
   "outputs": [
    {
     "name": "stdout",
     "output_type": "stream",
     "text": [
      "[1, 2, 3, 4, 5]\n"
     ]
    }
   ],
   "source": [
    "import shelve\n",
    "def save(key, value):\n",
    "    with shelve.open('shelve.dat') as d:\n",
    "        d[key] = value\n",
    "    \n",
    "def get(key):\n",
    "    with shelve.open('shelve.dat') as d:\n",
    "        return d[key]\n",
    "    \n",
    "save('number', [1,2,3,4,5])\n",
    "print(get('number'))"
   ]
  },
  {
   "cell_type": "markdown",
   "metadata": {},
   "source": [
    "## 블로그 데이터 저장하기\n",
    "\n",
    "### `sqlite3`"
   ]
  },
  {
   "cell_type": "markdown",
   "metadata": {},
   "source": [
    "- 데이터 베이스 접속하기\n",
    "\n",
    "`connect()`"
   ]
  },
  {
   "cell_type": "code",
   "execution_count": 13,
   "metadata": {},
   "outputs": [],
   "source": [
    "import sqlite3\n",
    "conn = sqlite3.connect('blog.db')"
   ]
  },
  {
   "cell_type": "markdown",
   "metadata": {},
   "source": [
    "- 테이블 생성하기\n",
    "\n",
    "`CREATE TABLE 테이블명 (...)`<br>\n",
    "`execute()` 함수를 호출하여 실행"
   ]
  },
  {
   "cell_type": "code",
   "execution_count": 14,
   "metadata": {},
   "outputs": [
    {
     "data": {
      "text/plain": [
       "<sqlite3.Cursor at 0x1fa424dd840>"
      ]
     },
     "execution_count": 14,
     "metadata": {},
     "output_type": "execute_result"
    }
   ],
   "source": [
    "c = conn.cursor()\n",
    "c.execute('''CREATE TABLE blog (id integer PRIMARY KEY, subject text, content text, date text)''')"
   ]
  },
  {
   "cell_type": "markdown",
   "metadata": {},
   "source": [
    "- 데이터 입력하기\n",
    "\n",
    "`INSERT INTO 테이블명 VALUES (...)`"
   ]
  },
  {
   "cell_type": "code",
   "execution_count": 15,
   "metadata": {},
   "outputs": [
    {
     "data": {
      "text/plain": [
       "<sqlite3.Cursor at 0x1fa424dd840>"
      ]
     },
     "execution_count": 15,
     "metadata": {},
     "output_type": "execute_result"
    }
   ],
   "source": [
    "c.execute(\"INSERT INTO blog VALUES(1, '첫번째블로그', ' 첫 번째 블로그입니다.', '20230802')\")"
   ]
  },
  {
   "cell_type": "code",
   "execution_count": 16,
   "metadata": {},
   "outputs": [
    {
     "data": {
      "text/plain": [
       "<sqlite3.Cursor at 0x1fa424dd840>"
      ]
     },
     "execution_count": 16,
     "metadata": {},
     "output_type": "execute_result"
    }
   ],
   "source": [
    "c.execute(\"INSERT INTO blog VALUES(2, '두번째블로그', ' 두 번째 블로그입니다.', '20230802')\")"
   ]
  },
  {
   "cell_type": "code",
   "execution_count": 17,
   "metadata": {},
   "outputs": [
    {
     "data": {
      "text/plain": [
       "<sqlite3.Cursor at 0x1fa424dd840>"
      ]
     },
     "execution_count": 17,
     "metadata": {},
     "output_type": "execute_result"
    }
   ],
   "source": [
    "_id = 3\n",
    "subject = \"세번째블로그\"\n",
    "content = \"세 번째 블로그입니다\"\n",
    "date = \"20230802\"\n",
    "c.execute(\"INSERT INTO blog VALUES (%d, '%s', '%s', '%s')\" % (_id, subject, content, date))"
   ]
  },
  {
   "cell_type": "code",
   "execution_count": 18,
   "metadata": {},
   "outputs": [
    {
     "data": {
      "text/plain": [
       "<sqlite3.Cursor at 0x1fa424dd840>"
      ]
     },
     "execution_count": 18,
     "metadata": {},
     "output_type": "execute_result"
    }
   ],
   "source": [
    "_id = 4\n",
    "subject = \"네번째블로그\"\n",
    "content = \"네 번째 블로그입니다\"\n",
    "date = \"20230802\"\n",
    "c.execute(\"INSERT INTO blog VALUES (?, ?, ?, ?)\", (_id, subject, content, date))"
   ]
  },
  {
   "cell_type": "code",
   "execution_count": 19,
   "metadata": {},
   "outputs": [
    {
     "data": {
      "text/plain": [
       "<sqlite3.Cursor at 0x1fa424dd840>"
      ]
     },
     "execution_count": 19,
     "metadata": {},
     "output_type": "execute_result"
    }
   ],
   "source": [
    "c.execute(\"INSERT INTO blog VALUES (:id, :subject, :content, :date)\", {\"id\": 5, \"subject\" : \"다섯번째블로그\", \"content\": \"다섯 번째 블로그입니다\", \"date\": \"20230802\"})"
   ]
  },
  {
   "cell_type": "markdown",
   "metadata": {},
   "source": [
    "- 데이터 조회하기\n",
    "\n",
    "`SELECT ... FROM 테이블명 ...`"
   ]
  },
  {
   "cell_type": "code",
   "execution_count": 20,
   "metadata": {},
   "outputs": [
    {
     "name": "stdout",
     "output_type": "stream",
     "text": [
      "[(1, '첫번째블로그', ' 첫 번째 블로그입니다.', '20230802'), (2, '두번째블로그', ' 두 번째 블로그입니다.', '20230802'), (3, '세번째블로그', '세 번째 블로그입니다', '20230802'), (4, '네번째블로그', '네 번째 블로그입니다', '20230802'), (5, '다섯번째블로그', '다섯 번째 블로그입니다', '20230802')]\n"
     ]
    }
   ],
   "source": [
    "c.execute('SELECT * FROM blog')\n",
    "all = c.fetchall()\n",
    "print(all)"
   ]
  },
  {
   "cell_type": "code",
   "execution_count": 21,
   "metadata": {},
   "outputs": [
    {
     "name": "stdout",
     "output_type": "stream",
     "text": [
      "(1, '첫번째블로그', ' 첫 번째 블로그입니다.', '20230802')\n"
     ]
    }
   ],
   "source": [
    "c.execute('SELECT * FROM blog')\n",
    "one = c.fetchone()\n",
    "print(one)"
   ]
  },
  {
   "cell_type": "markdown",
   "metadata": {},
   "source": [
    "- 데이터 수정과 삭제\n",
    "\n",
    "`UPDATE 테이블명 SET ...` : 수정 <br>\n",
    "`DELETE FROM 테이블명 ...`: 삭제"
   ]
  },
  {
   "cell_type": "code",
   "execution_count": 22,
   "metadata": {},
   "outputs": [
    {
     "data": {
      "text/plain": [
       "<sqlite3.Cursor at 0x1fa424dd840>"
      ]
     },
     "execution_count": 22,
     "metadata": {},
     "output_type": "execute_result"
    }
   ],
   "source": [
    "c.execute(\"UPDATE blog SET subject='최초의블로그' WHERE id=1\")"
   ]
  },
  {
   "cell_type": "code",
   "execution_count": 23,
   "metadata": {},
   "outputs": [
    {
     "name": "stdout",
     "output_type": "stream",
     "text": [
      "(1, '최초의블로그', ' 첫 번째 블로그입니다.', '20230802')\n"
     ]
    }
   ],
   "source": [
    "c.execute('SELECT * FROM blog WHERE id=1')\n",
    "one = c.fetchone()\n",
    "print(one)"
   ]
  },
  {
   "cell_type": "code",
   "execution_count": 24,
   "metadata": {},
   "outputs": [
    {
     "data": {
      "text/plain": [
       "<sqlite3.Cursor at 0x1fa424dd840>"
      ]
     },
     "execution_count": 24,
     "metadata": {},
     "output_type": "execute_result"
    }
   ],
   "source": [
    "c.execute('DELETE FROM blog WHERE id=5')        ## id 안쓰면 전체 삭제임"
   ]
  },
  {
   "cell_type": "markdown",
   "metadata": {},
   "source": [
    "- 데이터 저장과 취소\n",
    "\n",
    "`conn.commit()` : 저장<br>\n",
    "`conn.rollback()` : 취소"
   ]
  },
  {
   "cell_type": "code",
   "execution_count": 25,
   "metadata": {},
   "outputs": [],
   "source": [
    "conn.commit()"
   ]
  },
  {
   "cell_type": "code",
   "execution_count": 26,
   "metadata": {},
   "outputs": [],
   "source": [
    "conn.rollback()"
   ]
  },
  {
   "cell_type": "markdown",
   "metadata": {},
   "source": [
    "- 데이터베이스 접속 종료\n",
    "\n",
    "`conn.close()` : 종료"
   ]
  },
  {
   "cell_type": "code",
   "execution_count": 27,
   "metadata": {},
   "outputs": [],
   "source": [
    "conn.close()"
   ]
  },
  {
   "cell_type": "markdown",
   "metadata": {},
   "source": [
    "- 블로그 데이터 모델"
   ]
  },
  {
   "cell_type": "code",
   "execution_count": 28,
   "metadata": {},
   "outputs": [],
   "source": [
    "import sqlite3\n",
    "## 조회\n",
    "def get_blog_list():\n",
    "    conn = sqlite3.connect('blog.db')\n",
    "    c = conn.cursor()\n",
    "    c.execute(\"SELECT * FROM blog\")\n",
    "    result = c.fetchall()\n",
    "    conn.close()\n",
    "    return result"
   ]
  },
  {
   "cell_type": "code",
   "execution_count": 31,
   "metadata": {},
   "outputs": [
    {
     "data": {
      "text/plain": [
       "[(1, '최초의블로그', ' 첫 번째 블로그입니다.', '20230802'),\n",
       " (2, '두번째블로그', ' 두 번째 블로그입니다.', '20230802'),\n",
       " (3, '세번째블로그', '세 번째 블로그입니다', '20230802'),\n",
       " (4, '네번째블로그', '네 번째 블로그입니다', '20230802'),\n",
       " (5, '자동 증가', 'id값이 자동 증가되어 입력됩니다.', '20230802')]"
      ]
     },
     "execution_count": 31,
     "metadata": {},
     "output_type": "execute_result"
    }
   ],
   "source": [
    "get_blog_list()"
   ]
  },
  {
   "cell_type": "code",
   "execution_count": 35,
   "metadata": {},
   "outputs": [],
   "source": [
    "## 딕셔너리로 전체 조회\n",
    "def get_blog_list():\n",
    "    conn = sqlite3.connect('blog.db')\n",
    "    conn.row_factory = sqlite3.Row\n",
    "    c = conn.cursor()\n",
    "    c.execute(\"SELECT * FROM blog\")\n",
    "    result = c.fetchall()\n",
    "    conn.close()\n",
    "    return result"
   ]
  },
  {
   "cell_type": "code",
   "execution_count": 33,
   "metadata": {},
   "outputs": [
    {
     "name": "stdout",
     "output_type": "stream",
     "text": [
      "<sqlite3.Row object at 0x000001FA4261FCD0>\n",
      "최초의블로그\n",
      "<sqlite3.Row object at 0x000001FA4261F040>\n",
      "두번째블로그\n",
      "<sqlite3.Row object at 0x000001FA4261E920>\n",
      "세번째블로그\n",
      "<sqlite3.Row object at 0x000001FA4261EBC0>\n",
      "네번째블로그\n",
      "<sqlite3.Row object at 0x000001FA4261ECE0>\n",
      "자동 증가\n"
     ]
    }
   ],
   "source": [
    "for blog in get_blog_list():\n",
    "    print(blog)\n",
    "    print(blog[\"subject\"])"
   ]
  },
  {
   "cell_type": "code",
   "execution_count": 34,
   "metadata": {},
   "outputs": [],
   "source": [
    "import time\n",
    "## 블로그 생성\n",
    "def add_blog(subject, content):\n",
    "    conn = sqlite3.connect('blog.db')\n",
    "    conn.row_factory = sqlite3.Row\n",
    "    c = conn.cursor()\n",
    "    today = time.strftime('%Y%m%d')\n",
    "    c.execute(\"INSERT INTO blog (subject, content, date) VALUES (?,?,?)\",\n",
    "              (subject, content, today))\n",
    "    conn.commit()\n",
    "    conn.close()\n",
    "    "
   ]
  },
  {
   "cell_type": "code",
   "execution_count": 38,
   "metadata": {},
   "outputs": [],
   "source": [
    "## 블로그 읽기\n",
    "def read_blog(_id):\n",
    "    conn = sqlite3.connect('blog.db')\n",
    "    conn.row_factory = sqlite3.Row\n",
    "    c = conn.cursor()\n",
    "    c.execute(\"SELECT * FROM blog WHERE id=?\", (_id,))\n",
    "    result = c.fetchone()\n",
    "    conn.close()\n",
    "    return result"
   ]
  },
  {
   "cell_type": "code",
   "execution_count": 42,
   "metadata": {},
   "outputs": [],
   "source": [
    "## 블로그 수정\n",
    "def modify_blog(_id, subject, content):\n",
    "    conn = sqlite3.connect('blog.db')\n",
    "    conn.row_factory = sqlite3.Row\n",
    "    c = conn.cursor()\n",
    "    c.execute(\"UPDATE blog SET subject=?, content=?, WHERE id=?\",\n",
    "              (subject, content, _id))\n",
    "    conn.commit()\n",
    "    conn.close()"
   ]
  },
  {
   "cell_type": "code",
   "execution_count": 43,
   "metadata": {},
   "outputs": [],
   "source": [
    "## 블로그 삭제\n",
    "def remove_blog(_id):\n",
    "    conn = sqlite3.connect('blog.db')\n",
    "    conn.row_factory = sqlite3.Row\n",
    "    c = conn.cursor()\n",
    "    c.execute(\"DELETE FROM blog WHERE id=?\", (_id,))\n",
    "    conn.commit()\n",
    "    conn.close()"
   ]
  },
  {
   "cell_type": "code",
   "execution_count": 44,
   "metadata": {},
   "outputs": [],
   "source": [
    "## connect 나 close 같이 반복하여 사용하는것을 데코레이터 해서 사용하기\n",
    "\n",
    "def with_cursor(original_func):\n",
    "    def wrapper(*args, **kwargs):\n",
    "        conn = sqlite3.connect('blog.db')\n",
    "        conn.row_factory = sqlite3.Row\n",
    "        c = conn.cursor()\n",
    "        rv = original_func(c, *args, **kwargs)\n",
    "        conn.commit()\n",
    "        conn.close()\n",
    "        return rv\n",
    "    return wrapper"
   ]
  },
  {
   "cell_type": "code",
   "execution_count": 45,
   "metadata": {},
   "outputs": [],
   "source": [
    "## 최종 합본(.py파일 같이 만듬)\n",
    "\n",
    "import sqlite3\n",
    "import time\n",
    "\n",
    "def with_cursor(original_func):\n",
    "    def wrapper(*args, **kwargs):\n",
    "        conn = sqlite3.connect('blog.db')\n",
    "        conn.row_factory = sqlite3.Row\n",
    "        c = conn.cursor()\n",
    "        rv = original_func(c, *args, **kwargs)\n",
    "        conn.commit()\n",
    "        conn.close()\n",
    "        return rv\n",
    "    return wrapper\n",
    "\n",
    "@with_cursor\n",
    "def get_blog_list(c):\n",
    "    c.execute(\"SELECT * FROM blog\")\n",
    "    return c.fetchall()\n",
    "\n",
    "@with_cursor\n",
    "def add_blog(c, subject, content):\n",
    "    c.execute(\"INSERT INTO blog (subject, content, date) VALUES (?,?,?)\",\n",
    "              (subject, content, time.strftime('%Y%m%d')))\n",
    "    \n",
    "@with_cursor\n",
    "def read_blog(c, _id):\n",
    "    c.execute(\"SELECT * FROM blog WHERE id=?\", (_id,))\n",
    "    return c.fetchone()\n",
    "\n",
    "@with_cursor\n",
    "def modify_blog(c, _id, subject, content):\n",
    "    c.execute(\"UPDATE blog SET subject=?, content=?, WHERE id=?\",\n",
    "              (subject, content, _id))\n",
    "    \n",
    "@with_cursor\n",
    "def remove_blog(c, _id):\n",
    "    c.execute(\"DELETE FROM blog WHERE id=?\", (_id,))"
   ]
  },
  {
   "cell_type": "code",
   "execution_count": null,
   "metadata": {},
   "outputs": [],
   "source": []
  }
 ],
 "metadata": {
  "kernelspec": {
   "display_name": "Python 3",
   "language": "python",
   "name": "python3"
  },
  "language_info": {
   "codemirror_mode": {
    "name": "ipython",
    "version": 3
   },
   "file_extension": ".py",
   "mimetype": "text/x-python",
   "name": "python",
   "nbconvert_exporter": "python",
   "pygments_lexer": "ipython3",
   "version": "3.11.3"
  },
  "orig_nbformat": 4
 },
 "nbformat": 4,
 "nbformat_minor": 2
}
