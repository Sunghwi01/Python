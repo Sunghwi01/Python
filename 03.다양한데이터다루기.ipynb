{
 "cells": [
  {
   "cell_type": "markdown",
   "metadata": {},
   "source": [
    "## 날짜 계산과 요일 확인\n",
    "\n",
    "### `datetime.date`"
   ]
  },
  {
   "cell_type": "markdown",
   "metadata": {},
   "source": [
    "- 예제) \n",
    "\n",
    "2019년 12월 14일부터 만나기 시작했다면 2021년 6월 5일은 사귄지 며칠쨰 되는 날일까? 아울러 사귀기 시작한 2109년 12월 14일은 무슨 요일이였을까?"
   ]
  },
  {
   "cell_type": "code",
   "execution_count": 1,
   "metadata": {},
   "outputs": [],
   "source": [
    "import datetime"
   ]
  },
  {
   "cell_type": "code",
   "execution_count": 2,
   "metadata": {},
   "outputs": [
    {
     "data": {
      "text/plain": [
       "datetime.date(2019, 12, 14)"
      ]
     },
     "execution_count": 2,
     "metadata": {},
     "output_type": "execute_result"
    }
   ],
   "source": [
    "day1 = datetime.date(2019, 12, 14)\n",
    "day1"
   ]
  },
  {
   "cell_type": "code",
   "execution_count": 3,
   "metadata": {},
   "outputs": [
    {
     "data": {
      "text/plain": [
       "datetime.date(2021, 6, 5)"
      ]
     },
     "execution_count": 3,
     "metadata": {},
     "output_type": "execute_result"
    }
   ],
   "source": [
    "day2 = datetime.date(2021, 6, 5)\n",
    "day2"
   ]
  },
  {
   "cell_type": "code",
   "execution_count": 4,
   "metadata": {},
   "outputs": [
    {
     "data": {
      "text/plain": [
       "datetime.timedelta(days=539)"
      ]
     },
     "execution_count": 4,
     "metadata": {},
     "output_type": "execute_result"
    }
   ],
   "source": [
    "diff = day2 - day1\n",
    "diff"
   ]
  },
  {
   "cell_type": "markdown",
   "metadata": {},
   "source": [
    "- datetime.datetime 객체\n",
    "    - datetime.date는 년,월,일로만 구분 \n",
    "    - datetime.datetime 은 년,월,일,시,분,초까지 구분"
   ]
  },
  {
   "cell_type": "code",
   "execution_count": 5,
   "metadata": {},
   "outputs": [],
   "source": [
    "day3 = datetime.datetime(2020, 12, 14, 14, 10, 50)"
   ]
  },
  {
   "cell_type": "code",
   "execution_count": 6,
   "metadata": {},
   "outputs": [
    {
     "data": {
      "text/plain": [
       "14"
      ]
     },
     "execution_count": 6,
     "metadata": {},
     "output_type": "execute_result"
    }
   ],
   "source": [
    "day3.hour"
   ]
  },
  {
   "cell_type": "code",
   "execution_count": 7,
   "metadata": {},
   "outputs": [
    {
     "data": {
      "text/plain": [
       "10"
      ]
     },
     "execution_count": 7,
     "metadata": {},
     "output_type": "execute_result"
    }
   ],
   "source": [
    "day3.minute"
   ]
  },
  {
   "cell_type": "code",
   "execution_count": 8,
   "metadata": {},
   "outputs": [
    {
     "data": {
      "text/plain": [
       "50"
      ]
     },
     "execution_count": 8,
     "metadata": {},
     "output_type": "execute_result"
    }
   ],
   "source": [
    "day3.second"
   ]
  },
  {
   "cell_type": "markdown",
   "metadata": {},
   "source": [
    "- combine()함수로 합칠수 있다"
   ]
  },
  {
   "cell_type": "code",
   "execution_count": 9,
   "metadata": {},
   "outputs": [
    {
     "data": {
      "text/plain": [
       "datetime.datetime(2019, 12, 14, 10, 14, 50)"
      ]
     },
     "execution_count": 9,
     "metadata": {},
     "output_type": "execute_result"
    }
   ],
   "source": [
    "day = datetime.date(2019, 12, 14)\n",
    "time = datetime.time(10, 14, 50)\n",
    "dt = datetime.datetime.combine(day, time)\n",
    "dt"
   ]
  },
  {
   "cell_type": "markdown",
   "metadata": {},
   "source": [
    "### `weekday()`\n",
    "\n",
    "- 요일 알아내기\n",
    "- 0은 월요일, 1은 화요일 ... 6은 일요일\n",
    "- 월요일은 1, 화요일은 2 ... 일요일은 7 이렇게 반환하고 싶으면 `isoweekday()`함수 사용"
   ]
  },
  {
   "cell_type": "code",
   "execution_count": 10,
   "metadata": {},
   "outputs": [
    {
     "data": {
      "text/plain": [
       "5"
      ]
     },
     "execution_count": 10,
     "metadata": {},
     "output_type": "execute_result"
    }
   ],
   "source": [
    "day = datetime.date(2019, 12, 14)\n",
    "day.weekday()"
   ]
  },
  {
   "cell_type": "code",
   "execution_count": 11,
   "metadata": {},
   "outputs": [
    {
     "data": {
      "text/plain": [
       "6"
      ]
     },
     "execution_count": 11,
     "metadata": {},
     "output_type": "execute_result"
    }
   ],
   "source": [
    "day.isoweekday()"
   ]
  },
  {
   "cell_type": "markdown",
   "metadata": {},
   "source": [
    "## 두 날짜의 차이\n",
    "\n",
    "### `datetime.timedelta`"
   ]
  },
  {
   "cell_type": "markdown",
   "metadata": {},
   "source": [
    "- 예제)\n",
    "오늘부터 사귀기 시작한 커플이 벌써 100일 기념일을 챙기려 한다. 이 커플의 100일 기념일은 언제인가?"
   ]
  },
  {
   "cell_type": "code",
   "execution_count": 12,
   "metadata": {},
   "outputs": [
    {
     "data": {
      "text/plain": [
       "datetime.date(2023, 7, 28)"
      ]
     },
     "execution_count": 12,
     "metadata": {},
     "output_type": "execute_result"
    }
   ],
   "source": [
    "today = datetime.date.today()\n",
    "today"
   ]
  },
  {
   "cell_type": "code",
   "execution_count": 13,
   "metadata": {},
   "outputs": [
    {
     "data": {
      "text/plain": [
       "datetime.timedelta(days=100)"
      ]
     },
     "execution_count": 13,
     "metadata": {},
     "output_type": "execute_result"
    }
   ],
   "source": [
    "diff_days = datetime.timedelta(days=100)\n",
    "diff_days                   ## 100일 뒤를 계산하는 식(days외에 seconds, microseconds, minutes, weeks등 사용가능)"
   ]
  },
  {
   "cell_type": "code",
   "execution_count": 14,
   "metadata": {},
   "outputs": [
    {
     "data": {
      "text/plain": [
       "datetime.date(2023, 11, 5)"
      ]
     },
     "execution_count": 14,
     "metadata": {},
     "output_type": "execute_result"
    }
   ],
   "source": [
    "today + diff_days"
   ]
  },
  {
   "cell_type": "markdown",
   "metadata": {},
   "source": [
    "## 윤년 계산\n",
    "\n",
    "### `calender.isleap`"
   ]
  },
  {
   "cell_type": "markdown",
   "metadata": {},
   "source": [
    "- 예제)\n",
    "다음 년도가 윤년인지 확인\n",
    "    - 0년\n",
    "    - 1년\n",
    "    - 4년\n",
    "    - 1200년\n",
    "    - 700년\n",
    "    - 2020년<br>\n",
    "<br>\n",
    "- 윤년의 규칙\n",
    "    - 서력 기원 연수가 4로 나누어 떨어지는 해\n",
    "    - 그 중에서 100으로 나누어 떨어지는 해는 제외\n",
    "    - 400으로 나누어 떨어지는 해는 다시 윤년으로 지정"
   ]
  },
  {
   "cell_type": "code",
   "execution_count": 24,
   "metadata": {},
   "outputs": [],
   "source": [
    "def is_leap_year(year):\n",
    "    if year % 400 == 0:\n",
    "        return True\n",
    "    if year % 100 == 0:\n",
    "        return False\n",
    "    if year % 4 == 0:\n",
    "        return True\n",
    "    return False"
   ]
  },
  {
   "cell_type": "code",
   "execution_count": 25,
   "metadata": {},
   "outputs": [
    {
     "data": {
      "text/plain": [
       "True"
      ]
     },
     "execution_count": 25,
     "metadata": {},
     "output_type": "execute_result"
    }
   ],
   "source": [
    "import calendar\n",
    "calendar.isleap(0)"
   ]
  },
  {
   "cell_type": "code",
   "execution_count": 26,
   "metadata": {},
   "outputs": [
    {
     "data": {
      "text/plain": [
       "False"
      ]
     },
     "execution_count": 26,
     "metadata": {},
     "output_type": "execute_result"
    }
   ],
   "source": [
    "calendar.isleap(1)"
   ]
  },
  {
   "cell_type": "code",
   "execution_count": 27,
   "metadata": {},
   "outputs": [
    {
     "data": {
      "text/plain": [
       "True"
      ]
     },
     "execution_count": 27,
     "metadata": {},
     "output_type": "execute_result"
    }
   ],
   "source": [
    "calendar.isleap(4)"
   ]
  },
  {
   "cell_type": "code",
   "execution_count": 28,
   "metadata": {},
   "outputs": [
    {
     "data": {
      "text/plain": [
       "True"
      ]
     },
     "execution_count": 28,
     "metadata": {},
     "output_type": "execute_result"
    }
   ],
   "source": [
    "calendar.isleap(1200)"
   ]
  },
  {
   "cell_type": "code",
   "execution_count": 29,
   "metadata": {},
   "outputs": [
    {
     "data": {
      "text/plain": [
       "False"
      ]
     },
     "execution_count": 29,
     "metadata": {},
     "output_type": "execute_result"
    }
   ],
   "source": [
    "calendar.isleap(700)"
   ]
  },
  {
   "cell_type": "code",
   "execution_count": 30,
   "metadata": {},
   "outputs": [
    {
     "data": {
      "text/plain": [
       "True"
      ]
     },
     "execution_count": 30,
     "metadata": {},
     "output_type": "execute_result"
    }
   ],
   "source": [
    "calendar.isleap(2020)"
   ]
  },
  {
   "cell_type": "markdown",
   "metadata": {},
   "source": [
    "## 앞뒤에 자료 넣고 빼기\n",
    "\n",
    "### `collection.deque`"
   ]
  },
  {
   "cell_type": "markdown",
   "metadata": {},
   "source": [
    "- 예제)\n",
    " a = [1,2,3,4,5] 에서 [4,5,1,2,3] 으로 바꾸려면 어떻게 해야할까? "
   ]
  },
  {
   "cell_type": "code",
   "execution_count": 35,
   "metadata": {},
   "outputs": [
    {
     "data": {
      "text/plain": [
       "[4, 5, 1, 2, 3]"
      ]
     },
     "execution_count": 35,
     "metadata": {},
     "output_type": "execute_result"
    }
   ],
   "source": [
    "from collections import deque\n",
    "a = [1, 2, 3, 4, 5]\n",
    "q = deque(a)\n",
    "q.rotate(2)         ## 시계 방향으로 회전은 양수, 반대는 음수\n",
    "result = list(q)\n",
    "result"
   ]
  },
  {
   "cell_type": "markdown",
   "metadata": {},
   "source": [
    "- `deque` 사용법"
   ]
  },
  {
   "cell_type": "code",
   "execution_count": 36,
   "metadata": {},
   "outputs": [
    {
     "data": {
      "text/plain": [
       "deque([1, 2, 3, 4, 5, 6])"
      ]
     },
     "execution_count": 36,
     "metadata": {},
     "output_type": "execute_result"
    }
   ],
   "source": [
    "d = deque([1, 2, 3, 4, 5])\n",
    "d.append(6)\n",
    "d"
   ]
  },
  {
   "cell_type": "code",
   "execution_count": 37,
   "metadata": {},
   "outputs": [
    {
     "data": {
      "text/plain": [
       "deque([0, 1, 2, 3, 4, 5, 6])"
      ]
     },
     "execution_count": 37,
     "metadata": {},
     "output_type": "execute_result"
    }
   ],
   "source": [
    "d.appendleft(0)\n",
    "d"
   ]
  },
  {
   "cell_type": "code",
   "execution_count": 38,
   "metadata": {},
   "outputs": [
    {
     "data": {
      "text/plain": [
       "6"
      ]
     },
     "execution_count": 38,
     "metadata": {},
     "output_type": "execute_result"
    }
   ],
   "source": [
    "d.pop()"
   ]
  },
  {
   "cell_type": "code",
   "execution_count": 40,
   "metadata": {},
   "outputs": [
    {
     "data": {
      "text/plain": [
       "0"
      ]
     },
     "execution_count": 40,
     "metadata": {},
     "output_type": "execute_result"
    }
   ],
   "source": [
    "d.popleft()"
   ]
  },
  {
   "cell_type": "code",
   "execution_count": 41,
   "metadata": {},
   "outputs": [
    {
     "data": {
      "text/plain": [
       "deque([1, 2, 3, 4, 5])"
      ]
     },
     "execution_count": 41,
     "metadata": {},
     "output_type": "execute_result"
    }
   ],
   "source": [
    "d"
   ]
  },
  {
   "cell_type": "markdown",
   "metadata": {},
   "source": [
    "## 자료에 이름 붙이기\n",
    "\n",
    "### `collections.namedtuple`"
   ]
  },
  {
   "cell_type": "markdown",
   "metadata": {},
   "source": [
    "- 예제)\n",
    "직원 주소록에 이름, 나이, 전화번호로 구성된 데이터를 만드는데 데이터를 컬럼 이름으로 찾을 수 있게 만들기"
   ]
  },
  {
   "cell_type": "code",
   "execution_count": 42,
   "metadata": {},
   "outputs": [],
   "source": [
    "data = [\n",
    "    ('홍길동', 23, '01099990001'),\n",
    "    ('김철수', 31, '01099991002'),\n",
    "    ('이영희', 29, '01099992003')\n",
    "]"
   ]
  },
  {
   "cell_type": "code",
   "execution_count": null,
   "metadata": {},
   "outputs": [],
   "source": [
    "emp = data[0]       ## 첫 번째 직원 출력\n",
    "print(emp.name)     ## 직원 이름 '홍길동' 출력\n",
    "print(emp.age)      ## 직원 나이 '23' 출력\n",
    "print(emp.cellphone)## 전화번호 '01099990001' 출력"
   ]
  },
  {
   "cell_type": "code",
   "execution_count": 44,
   "metadata": {},
   "outputs": [],
   "source": [
    "from collections import namedtuple"
   ]
  },
  {
   "cell_type": "code",
   "execution_count": 49,
   "metadata": {},
   "outputs": [],
   "source": [
    "data = [\n",
    "    ('홍길동', 23, '01099990001'),\n",
    "    ('김철수', 31, '01099991002'),\n",
    "    ('이영희', 29, '01099992003')\n",
    "]"
   ]
  },
  {
   "cell_type": "code",
   "execution_count": 46,
   "metadata": {},
   "outputs": [],
   "source": [
    "Employee = namedtuple('Employee', 'name, age, cellphone')"
   ]
  },
  {
   "cell_type": "code",
   "execution_count": 47,
   "metadata": {},
   "outputs": [],
   "source": [
    "data = [Employee(emp[0], emp[1], emp[2]) for emp in data]"
   ]
  },
  {
   "cell_type": "code",
   "execution_count": 48,
   "metadata": {},
   "outputs": [
    {
     "data": {
      "text/plain": [
       "[Employee(name='홍길동', age=23, cellphone='01099990001'),\n",
       " Employee(name='김철수', age=31, cellphone='01099991002'),\n",
       " Employee(name='이영희', age=29, cellphone='01099992003')]"
      ]
     },
     "execution_count": 48,
     "metadata": {},
     "output_type": "execute_result"
    }
   ],
   "source": [
    "data"
   ]
  },
  {
   "cell_type": "code",
   "execution_count": 50,
   "metadata": {},
   "outputs": [],
   "source": [
    "data = [Employee._make(emp) for emp in data]        ## _make를 사용해 간략화 가능"
   ]
  },
  {
   "cell_type": "code",
   "execution_count": 53,
   "metadata": {},
   "outputs": [
    {
     "data": {
      "text/plain": [
       "Employee(name='홍길동', age=23, cellphone='01099990001')"
      ]
     },
     "execution_count": 53,
     "metadata": {},
     "output_type": "execute_result"
    }
   ],
   "source": [
    "emp = data[0]\n",
    "emp"
   ]
  },
  {
   "cell_type": "code",
   "execution_count": 56,
   "metadata": {},
   "outputs": [
    {
     "data": {
      "text/plain": [
       "{'name': '홍길동', 'age': 23, 'cellphone': '01099990001'}"
      ]
     },
     "execution_count": 56,
     "metadata": {},
     "output_type": "execute_result"
    }
   ],
   "source": [
    "emp._asdict()           ##_asdict 사용으로 딕셔너리로 변환"
   ]
  },
  {
   "cell_type": "code",
   "execution_count": 57,
   "metadata": {},
   "outputs": [
    {
     "data": {
      "text/plain": [
       "'홍길동'"
      ]
     },
     "execution_count": 57,
     "metadata": {},
     "output_type": "execute_result"
    }
   ],
   "source": [
    "emp[0]"
   ]
  },
  {
   "cell_type": "code",
   "execution_count": 58,
   "metadata": {},
   "outputs": [],
   "source": [
    "new_emp = emp._replace(name='박길동')           # 내용 교체에는 _replace()를 사용해야한다"
   ]
  },
  {
   "cell_type": "code",
   "execution_count": 60,
   "metadata": {},
   "outputs": [
    {
     "data": {
      "text/plain": [
       "Employee(name='박길동', age=23, cellphone='01099990001')"
      ]
     },
     "execution_count": 60,
     "metadata": {},
     "output_type": "execute_result"
    }
   ],
   "source": [
    "new_emp"
   ]
  },
  {
   "cell_type": "markdown",
   "metadata": {},
   "source": [
    "## 사용한 단어 개수 구하기\n",
    "\n",
    "### `collections.Counter`"
   ]
  },
  {
   "cell_type": "markdown",
   "metadata": {},
   "source": [
    "- 예제) \n",
    "김소월의 시 '산유화'에서 가장 많이 사용한 단어 찾기"
   ]
  },
  {
   "cell_type": "code",
   "execution_count": 62,
   "metadata": {},
   "outputs": [],
   "source": [
    "from collections import Counter\n",
    "import re"
   ]
  },
  {
   "cell_type": "code",
   "execution_count": 64,
   "metadata": {},
   "outputs": [
    {
     "name": "stdout",
     "output_type": "stream",
     "text": [
      "[('꽃이', 5)]\n"
     ]
    }
   ],
   "source": [
    "data = \"\"\"\n",
    "산에는 꽃 피네\n",
    "꽃이 피네\n",
    "갈 봄 여름 없이\n",
    "꽃이 피네\n",
    "\n",
    "산에\n",
    "산에\n",
    "피는 꽃은\n",
    "저만치 혼자서 피어 있네\n",
    "\n",
    "산에서 우는 작은 새여\n",
    "꽃이 좋아\n",
    "산에서\n",
    "사노라네\n",
    "\n",
    "산에는 꽃 지네\n",
    "꽃이 지네\n",
    "갈 봄 여름 없이\n",
    "꽃이 지네\n",
    "\"\"\"\n",
    "\n",
    "words = re.findall(r'\\w+', data)            ## 문장을 단어별로 나누기 (r은 정규표현식이 원시 문자열(raw string)임을 알려주는 문자)\n",
    "counter = Counter(words)\n",
    "print(counter.most_common(1))"
   ]
  },
  {
   "cell_type": "code",
   "execution_count": 68,
   "metadata": {},
   "outputs": [
    {
     "name": "stdout",
     "output_type": "stream",
     "text": [
      "Counter({'꽃이': 5, '피네': 3, '지네': 3, '산에는': 2, '꽃': 2, '갈': 2, '봄': 2, '여름': 2, '없이': 2, '산에': 2, '산에서': 2, '피는': 1, '꽃은': 1, '저만치': 1, '혼자서': 1, '피어': 1, '있네': 1, '우는': 1, '작은': 1, '새여': 1, '좋아': 1, '사노라네': 1})\n"
     ]
    }
   ],
   "source": [
    "print(counter)"
   ]
  },
  {
   "cell_type": "code",
   "execution_count": 69,
   "metadata": {},
   "outputs": [
    {
     "name": "stdout",
     "output_type": "stream",
     "text": [
      "[('꽃이', 5)]\n"
     ]
    }
   ],
   "source": [
    "print(counter.most_common(1))"
   ]
  },
  {
   "cell_type": "code",
   "execution_count": 70,
   "metadata": {},
   "outputs": [
    {
     "name": "stdout",
     "output_type": "stream",
     "text": [
      "[('꽃이', 5), ('피네', 3)]\n"
     ]
    }
   ],
   "source": [
    "print(counter.most_common(2))"
   ]
  },
  {
   "cell_type": "markdown",
   "metadata": {},
   "source": [
    "## 딕셔너리 한번에 초기화\n",
    "\n",
    "### `collections.defaultdict`"
   ]
  },
  {
   "cell_type": "markdown",
   "metadata": {},
   "source": [
    "- 예제)\n",
    "Life is too short, You need Python.<br>\n",
    "이 문자열을 이용하여 사용한 문자(key), 해당 문자의 사용 횟수(value)를 딕셔너리로 만드려면?"
   ]
  },
  {
   "cell_type": "code",
   "execution_count": 71,
   "metadata": {},
   "outputs": [
    {
     "name": "stdout",
     "output_type": "stream",
     "text": [
      "{'L': 1, 'i': 2, 'f': 1, 'e': 3, ' ': 6, 's': 2, 't': 3, 'o': 5, 'h': 2, 'r': 1, ',': 1, 'Y': 1, 'u': 1, 'n': 2, 'd': 1, 'P': 1, 'y': 1, '.': 1}\n"
     ]
    }
   ],
   "source": [
    "text = 'Life is too short, You need Python.'\n",
    "\n",
    "d = dict()\n",
    "for key in text:\n",
    "    if key not in d:                ## 딕셔너리 d의 키에 해당 문자가 없으면 키로 등록후 값은 0으로 초기화 (없으면 에러남!!!!)\n",
    "        d[key] = 0\n",
    "    d[key] += 1\n",
    "    \n",
    "print(d)"
   ]
  },
  {
   "cell_type": "code",
   "execution_count": 72,
   "metadata": {},
   "outputs": [],
   "source": [
    "from collections import defaultdict"
   ]
  },
  {
   "cell_type": "code",
   "execution_count": 73,
   "metadata": {},
   "outputs": [
    {
     "name": "stdout",
     "output_type": "stream",
     "text": [
      "{'L': 1, 'i': 2, 'f': 1, 'e': 3, ' ': 6, 's': 2, 't': 3, 'o': 5, 'h': 2, 'r': 1, ',': 1, 'Y': 1, 'u': 1, 'n': 2, 'd': 1, 'P': 1, 'y': 1, '.': 1}\n"
     ]
    }
   ],
   "source": [
    "d = defaultdict(int)        ## defaultdict()의 인수로 int를 전달해 d를 생성 d의값은 항상 0으로 자동 초기화됨\n",
    "for key in text:\n",
    "    d[key] += 1\n",
    "    \n",
    "print(dict(d))"
   ]
  },
  {
   "cell_type": "markdown",
   "metadata": {},
   "source": [
    "## 수상자 3명 선정\n",
    "\n",
    "### `heapq`"
   ]
  },
  {
   "cell_type": "markdown",
   "metadata": {},
   "source": [
    "- 예제)\n",
    "100m 달리기 기록에서 3명에게 금 은 동을 주는 프로그램 제작"
   ]
  },
  {
   "cell_type": "code",
   "execution_count": 74,
   "metadata": {},
   "outputs": [],
   "source": [
    "import heapq"
   ]
  },
  {
   "cell_type": "code",
   "execution_count": 77,
   "metadata": {},
   "outputs": [
    {
     "name": "stdout",
     "output_type": "stream",
     "text": [
      "(11.57, '차동현')\n",
      "(11.67, '차정웅')\n",
      "(11.92, '한시우')\n"
     ]
    }
   ],
   "source": [
    "data = [                        ## 힙을 사용할땐 기록을 앞에 두어야 한다!!\n",
    "    (12.23, \"강보람\"),\n",
    "    (12.31, '김지원'),\n",
    "    (11.98, '박시우'),\n",
    "    (11.99, '장준혁'),\n",
    "    (11.67, '차정웅'),\n",
    "    (12.02, '박종수'),\n",
    "    (11.57, '차동현'),\n",
    "    (12.04, '고미숙'),\n",
    "    (11.92, '한시우'),\n",
    "    (12.22, '이민석'),\n",
    "]\n",
    "\n",
    "h = []                          ## 힙 생성\n",
    "for score in data:\n",
    "    heapq.heappush(h, score)    ## 힙에 데이터 저장\n",
    "    \n",
    "for i in range(3):\n",
    "    print(heapq.heappop(h))     ## 최솟값부터 힙 반환"
   ]
  },
  {
   "cell_type": "code",
   "execution_count": 78,
   "metadata": {},
   "outputs": [
    {
     "name": "stdout",
     "output_type": "stream",
     "text": [
      "(11.57, '차동현')\n",
      "(11.67, '차정웅')\n",
      "(11.92, '한시우')\n"
     ]
    }
   ],
   "source": [
    "heapq.heapify(data)             ## data를 힙 구조에 맞게 변경\n",
    "\n",
    "for i in range(3):\n",
    "    print(heapq.heappop(data))"
   ]
  },
  {
   "cell_type": "code",
   "execution_count": 79,
   "metadata": {},
   "outputs": [
    {
     "name": "stdout",
     "output_type": "stream",
     "text": [
      "[(11.98, '박시우'), (11.99, '장준혁'), (12.02, '박종수')]\n"
     ]
    }
   ],
   "source": [
    "print(heapq.nsmallest(3, data))"
   ]
  },
  {
   "cell_type": "code",
   "execution_count": 80,
   "metadata": {},
   "outputs": [
    {
     "name": "stdout",
     "output_type": "stream",
     "text": [
      "[(12.31, '김지원'), (12.23, '강보람'), (12.22, '이민석')]\n"
     ]
    }
   ],
   "source": [
    "print(heapq.nlargest(3, data))"
   ]
  },
  {
   "cell_type": "markdown",
   "metadata": {},
   "source": [
    "## 데이터를 보기 좋게 출력하기\n",
    "\n",
    "### `pprint`"
   ]
  },
  {
   "cell_type": "code",
   "execution_count": 83,
   "metadata": {},
   "outputs": [],
   "source": [
    "import pprint"
   ]
  },
  {
   "cell_type": "code",
   "execution_count": 85,
   "metadata": {},
   "outputs": [
    {
     "name": "stdout",
     "output_type": "stream",
     "text": [
      "{'body': 'quia et suscipit\\n'\n",
      "         'suscipit recusandae consequuntur expedita et cum\\n'\n",
      "         'reprehenderit molestiae ut ut quas totam\\n'\n",
      "         'nostrum rerum est autem sunt rem evenuet architecto',\n",
      " 'id': 1,\n",
      " 'title': 'sunt aut facere repellat provident occaecati excepturi optio '\n",
      "          'reprehenderit',\n",
      " 'userId': 1}\n"
     ]
    }
   ],
   "source": [
    "result = {'userId': 1, 'id' : 1, 'title' : 'sunt aut facere repellat provident occaecati excepturi optio reprehenderit', 'body' : 'quia et suscipit\\nsuscipit recusandae consequuntur expedita et cum\\nreprehenderit molestiae ut ut quas totam\\nnostrum rerum est autem sunt rem evenuet architecto'}\n",
    "pprint.pprint(result)"
   ]
  },
  {
   "cell_type": "markdown",
   "metadata": {},
   "source": [
    "## 점수에 따른 학점 구하기\n",
    "\n",
    "### `bisect`"
   ]
  },
  {
   "cell_type": "markdown",
   "metadata": {},
   "source": [
    "- 예제)\n",
    "학점을 순서대로 구하기"
   ]
  },
  {
   "cell_type": "code",
   "execution_count": 86,
   "metadata": {},
   "outputs": [],
   "source": [
    "import bisect"
   ]
  },
  {
   "cell_type": "code",
   "execution_count": 87,
   "metadata": {},
   "outputs": [
    {
     "name": "stdout",
     "output_type": "stream",
     "text": [
      "['F', 'A', 'C', 'C', 'B', 'A', 'A']\n"
     ]
    }
   ],
   "source": [
    "result = []\n",
    "\n",
    "for score in [33, 99, 77, 70, 89, 90, 100]:\n",
    "    pos = bisect.bisect([60, 70, 80, 90], score)\n",
    "    grade = 'FDCBA'[pos]\n",
    "    result.append(grade)\n",
    "    \n",
    "print(result)"
   ]
  },
  {
   "cell_type": "markdown",
   "metadata": {},
   "source": [
    "- 점수를 이상이 아니라 초과로 설정하려면"
   ]
  },
  {
   "cell_type": "code",
   "execution_count": 88,
   "metadata": {},
   "outputs": [
    {
     "name": "stdout",
     "output_type": "stream",
     "text": [
      "['F', 'A', 'C', 'D', 'B', 'B', 'A']\n"
     ]
    }
   ],
   "source": [
    "result = []\n",
    "\n",
    "for score in [33, 99, 77, 70, 89, 90, 100]:\n",
    "    pos = bisect.bisect_left([60, 70, 80, 90], score)\n",
    "    grade = 'FDCBA'[pos]\n",
    "    result.append(grade)\n",
    "    \n",
    "print(result)"
   ]
  },
  {
   "cell_type": "markdown",
   "metadata": {},
   "source": [
    "- `bisect.insort()`\n",
    "    - 정렬할 수 있는 위치에 해당 항목 삽입"
   ]
  },
  {
   "cell_type": "code",
   "execution_count": 89,
   "metadata": {},
   "outputs": [
    {
     "data": {
      "text/plain": [
       "[60, 70, 80, 85, 90]"
      ]
     },
     "execution_count": 89,
     "metadata": {},
     "output_type": "execute_result"
    }
   ],
   "source": [
    "a = [60, 70, 80, 90]\n",
    "bisect.insort(a, 85)\n",
    "a"
   ]
  },
  {
   "cell_type": "markdown",
   "metadata": {},
   "source": [
    "## 숫자에 이름을 붙여 사용\n",
    "\n",
    "### `enum`"
   ]
  },
  {
   "cell_type": "code",
   "execution_count": null,
   "metadata": {},
   "outputs": [],
   "source": []
  }
 ],
 "metadata": {
  "kernelspec": {
   "display_name": "Python 3",
   "language": "python",
   "name": "python3"
  },
  "language_info": {
   "codemirror_mode": {
    "name": "ipython",
    "version": 3
   },
   "file_extension": ".py",
   "mimetype": "text/x-python",
   "name": "python",
   "nbconvert_exporter": "python",
   "pygments_lexer": "ipython3",
   "version": "3.11.3"
  },
  "orig_nbformat": 4
 },
 "nbformat": 4,
 "nbformat_minor": 2
}
