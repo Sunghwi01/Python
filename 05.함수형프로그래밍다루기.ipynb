{
 "cells": [
  {
   "cell_type": "markdown",
   "metadata": {},
   "source": [
    "## 순서대로 배정\n",
    "\n",
    "### `itertools.cycle`"
   ]
  },
  {
   "cell_type": "markdown",
   "metadata": {},
   "source": [
    "- 예제)\n",
    "근무자 3명을 순서대로 배정하려면 어떻게 해야 할까?"
   ]
  },
  {
   "cell_type": "code",
   "execution_count": 1,
   "metadata": {},
   "outputs": [],
   "source": [
    "import itertools\n"
   ]
  },
  {
   "cell_type": "code",
   "execution_count": 3,
   "metadata": {},
   "outputs": [
    {
     "data": {
      "text/plain": [
       "'김은경'"
      ]
     },
     "execution_count": 3,
     "metadata": {},
     "output_type": "execute_result"
    }
   ],
   "source": [
    "emp_pool = itertools.cycle(['김은경', '이명자', '이성진'])\n",
    "next(emp_pool)"
   ]
  },
  {
   "cell_type": "code",
   "execution_count": 4,
   "metadata": {},
   "outputs": [
    {
     "data": {
      "text/plain": [
       "'이명자'"
      ]
     },
     "execution_count": 4,
     "metadata": {},
     "output_type": "execute_result"
    }
   ],
   "source": [
    "next(emp_pool)"
   ]
  },
  {
   "cell_type": "code",
   "execution_count": 5,
   "metadata": {},
   "outputs": [
    {
     "data": {
      "text/plain": [
       "'이성진'"
      ]
     },
     "execution_count": 5,
     "metadata": {},
     "output_type": "execute_result"
    }
   ],
   "source": [
    "next(emp_pool)"
   ]
  },
  {
   "cell_type": "markdown",
   "metadata": {},
   "source": [
    "## 연간 매출액 계산\n",
    "\n",
    "### `itertools.accumulate`"
   ]
  },
  {
   "cell_type": "code",
   "execution_count": 6,
   "metadata": {},
   "outputs": [
    {
     "name": "stdout",
     "output_type": "stream",
     "text": [
      "[1161, 2975, 4245, 6501, 7914, 9756, 11977, 14184, 16634, 19457, 21997, 24131]\n"
     ]
    }
   ],
   "source": [
    "monthly_income = [1161, 1814, 1270, 2256, 1413, 1842, 2221, 2207, 2450, 2823, 2540, 2134]\n",
    "result = list(itertools.accumulate(monthly_income))\n",
    "\n",
    "print(result)"
   ]
  },
  {
   "cell_type": "code",
   "execution_count": 7,
   "metadata": {},
   "outputs": [
    {
     "name": "stdout",
     "output_type": "stream",
     "text": [
      "[1161, 1814, 1814, 2256, 2256, 2256, 2256, 2256, 2450, 2823, 2823, 2823]\n"
     ]
    }
   ],
   "source": [
    "monthly_income = [1161, 1814, 1270, 2256, 1413, 1842, 2221, 2207, 2450, 2823, 2540, 2134]\n",
    "result = list(itertools.accumulate(monthly_income, max))            ## 그 때까지의 최대값\n",
    "\n",
    "print(result)"
   ]
  },
  {
   "cell_type": "markdown",
   "metadata": {},
   "source": [
    "## 키값으로 데이터 묶기\n",
    "\n",
    "### `itertools.groupby`"
   ]
  },
  {
   "cell_type": "code",
   "execution_count": 8,
   "metadata": {},
   "outputs": [],
   "source": [
    "data = [\n",
    "    {'name' : '이민서', 'blood' : 'O'},\n",
    "    {'name' : '이영순', 'blood' : 'B'},\n",
    "    {'name' : '이상호', 'blood' : 'AB'},\n",
    "    {'name' : '김지민', 'blood' : 'B'},\n",
    "    {'name' : '최상현', 'blood' : 'AB'},\n",
    "    {'name' : '김지아', 'blood' : 'A'},\n",
    "    {'name' : '손우진', 'blood' : 'A'},\n",
    "    {'name' : '박은주', 'blood' : 'A'}\n",
    "]"
   ]
  },
  {
   "cell_type": "code",
   "execution_count": 9,
   "metadata": {},
   "outputs": [],
   "source": [
    "import operator\n",
    "data = sorted(data, key=operator.itemgetter('blood'))           ## 혈액형 순으로 정렬"
   ]
  },
  {
   "cell_type": "code",
   "execution_count": 10,
   "metadata": {},
   "outputs": [
    {
     "name": "stdout",
     "output_type": "stream",
     "text": [
      "[{'blood': 'A', 'name': '김지아'},\n",
      " {'blood': 'A', 'name': '손우진'},\n",
      " {'blood': 'A', 'name': '박은주'},\n",
      " {'blood': 'AB', 'name': '이상호'},\n",
      " {'blood': 'AB', 'name': '최상현'},\n",
      " {'blood': 'B', 'name': '이영순'},\n",
      " {'blood': 'B', 'name': '김지민'},\n",
      " {'blood': 'O', 'name': '이민서'}]\n"
     ]
    }
   ],
   "source": [
    "import pprint\n",
    "pprint.pprint(data)"
   ]
  },
  {
   "cell_type": "code",
   "execution_count": 11,
   "metadata": {},
   "outputs": [],
   "source": [
    "grouped_data = itertools.groupby(data, key=operator.itemgetter('blood'))"
   ]
  },
  {
   "cell_type": "code",
   "execution_count": 12,
   "metadata": {},
   "outputs": [],
   "source": [
    "result = {}\n",
    "for key, group_data in grouped_data:\n",
    "    result[key] = list(group_data)"
   ]
  },
  {
   "cell_type": "code",
   "execution_count": 13,
   "metadata": {},
   "outputs": [
    {
     "name": "stdout",
     "output_type": "stream",
     "text": [
      "{'A': [{'blood': 'A', 'name': '김지아'},\n",
      "       {'blood': 'A', 'name': '손우진'},\n",
      "       {'blood': 'A', 'name': '박은주'}],\n",
      " 'AB': [{'blood': 'AB', 'name': '이상호'}, {'blood': 'AB', 'name': '최상현'}],\n",
      " 'B': [{'blood': 'B', 'name': '이영순'}, {'blood': 'B', 'name': '김지민'}],\n",
      " 'O': [{'blood': 'O', 'name': '이민서'}]}\n"
     ]
    }
   ],
   "source": [
    "pprint.pprint(result)"
   ]
  },
  {
   "cell_type": "code",
   "execution_count": 14,
   "metadata": {},
   "outputs": [
    {
     "name": "stdout",
     "output_type": "stream",
     "text": [
      "{'A': [{'blood': 'A', 'name': '김지아'},\n",
      "       {'blood': 'A', 'name': '손우진'},\n",
      "       {'blood': 'A', 'name': '박은주'}],\n",
      " 'AB': [{'blood': 'AB', 'name': '이상호'}, {'blood': 'AB', 'name': '최상현'}],\n",
      " 'B': [{'blood': 'B', 'name': '이영순'}, {'blood': 'B', 'name': '김지민'}],\n",
      " 'O': [{'blood': 'O', 'name': '이민서'}]}\n"
     ]
    }
   ],
   "source": [
    "data = [\n",
    "    {'name' : '이민서', 'blood' : 'O'},\n",
    "    {'name' : '이영순', 'blood' : 'B'},\n",
    "    {'name' : '이상호', 'blood' : 'AB'},\n",
    "    {'name' : '김지민', 'blood' : 'B'},\n",
    "    {'name' : '최상현', 'blood' : 'AB'},\n",
    "    {'name' : '김지아', 'blood' : 'A'},\n",
    "    {'name' : '손우진', 'blood' : 'A'},\n",
    "    {'name' : '박은주', 'blood' : 'A'}\n",
    "]\n",
    "\n",
    "data = sorted(data, key=operator.itemgetter('blood'))  \n",
    "grouped_data = itertools.groupby(data, key=operator.itemgetter('blood'))\n",
    "\n",
    "result = {}\n",
    "for key, group_data in grouped_data:\n",
    "    result[key] = list(group_data)\n",
    "    \n",
    "pprint.pprint(result)"
   ]
  },
  {
   "cell_type": "markdown",
   "metadata": {},
   "source": [
    "## 부족한 것 채워 묶기\n",
    "\n",
    "### `itertools.zip_longest`"
   ]
  },
  {
   "cell_type": "code",
   "execution_count": 15,
   "metadata": {},
   "outputs": [
    {
     "name": "stdout",
     "output_type": "stream",
     "text": [
      "[('한민서', '사탕'), ('황지민', '초콜릿'), ('이영철', '젤리')]\n"
     ]
    }
   ],
   "source": [
    "students = ['한민서', '황지민', '이영철', '이광수', '김승민']\n",
    "rewards = ['사탕', '초콜릿', '젤리']\n",
    "\n",
    "result = zip(students, rewards)\n",
    "print(list(result))"
   ]
  },
  {
   "cell_type": "code",
   "execution_count": 16,
   "metadata": {},
   "outputs": [
    {
     "name": "stdout",
     "output_type": "stream",
     "text": [
      "[('한민서', '사탕'), ('황지민', '초콜릿'), ('이영철', '젤리'), ('이광수', '새우깡'), ('김승민', '새우깡')]\n"
     ]
    }
   ],
   "source": [
    "students = ['한민서', '황지민', '이영철', '이광수', '김승민']\n",
    "rewards = ['사탕', '초콜릿', '젤리']\n",
    "\n",
    "result = itertools.zip_longest(students, rewards, fillvalue='새우깡')           ## fillvalue 의 기본값은 None\n",
    "print(list(result))"
   ]
  },
  {
   "cell_type": "markdown",
   "metadata": {},
   "source": [
    "## 순서를 생각하며 뽑기\n",
    "\n",
    "### `itertools.permutations`"
   ]
  },
  {
   "cell_type": "markdown",
   "metadata": {},
   "source": [
    "- 예제)\n",
    "1, 2, 3 숫자가 적힌 3장의 카드에서 두장을 꺼내 만들 수 있는 모든 두자리 수 "
   ]
  },
  {
   "cell_type": "code",
   "execution_count": 17,
   "metadata": {},
   "outputs": [
    {
     "data": {
      "text/plain": [
       "[('1', '2'), ('1', '3'), ('2', '1'), ('2', '3'), ('3', '1'), ('3', '2')]"
      ]
     },
     "execution_count": 17,
     "metadata": {},
     "output_type": "execute_result"
    }
   ],
   "source": [
    "list(itertools.permutations(['1', '2', '3'], 2))"
   ]
  },
  {
   "cell_type": "code",
   "execution_count": 18,
   "metadata": {},
   "outputs": [
    {
     "name": "stdout",
     "output_type": "stream",
     "text": [
      "12\n",
      "13\n",
      "21\n",
      "23\n",
      "31\n",
      "32\n"
     ]
    }
   ],
   "source": [
    "for a, b in itertools.permutations(['1', '2', '3'],2):\n",
    "    print(a+b)"
   ]
  },
  {
   "cell_type": "markdown",
   "metadata": {},
   "source": [
    "## 로또의 모든 가짓수 구하기\n",
    "\n",
    "### `itertools.combinations`"
   ]
  },
  {
   "cell_type": "markdown",
   "metadata": {},
   "source": [
    "- 예제)\n",
    "1 ~ 45 중 서로 다른 숫자 6개를 뽑는 로또 번호의 모든 경우의 수의 개수 출력"
   ]
  },
  {
   "cell_type": "code",
   "execution_count": 19,
   "metadata": {},
   "outputs": [],
   "source": [
    "it = itertools.combinations(range(1, 46), 6)"
   ]
  },
  {
   "cell_type": "markdown",
   "metadata": {},
   "source": [
    "* 주의<br>\n",
    "`for num in it `<br>\n",
    "    `print(num)`<br>\n",
    "다음 함수를 실행하면 굉장히 오래걸림"
   ]
  },
  {
   "cell_type": "code",
   "execution_count": 20,
   "metadata": {},
   "outputs": [
    {
     "data": {
      "text/plain": [
       "8145060"
      ]
     },
     "execution_count": 20,
     "metadata": {},
     "output_type": "execute_result"
    }
   ],
   "source": [
    "len(list(itertools.combinations(range(1, 46),6)))"
   ]
  },
  {
   "cell_type": "markdown",
   "metadata": {},
   "source": [
    "- `itertools.combinations_with_replacement()`\n",
    "중복 조합"
   ]
  },
  {
   "cell_type": "code",
   "execution_count": 21,
   "metadata": {},
   "outputs": [
    {
     "data": {
      "text/plain": [
       "15890700"
      ]
     },
     "execution_count": 21,
     "metadata": {},
     "output_type": "execute_result"
    }
   ],
   "source": [
    "len(list(itertools.combinations_with_replacement(range(1, 46),6)))"
   ]
  },
  {
   "cell_type": "code",
   "execution_count": null,
   "metadata": {},
   "outputs": [],
   "source": []
  }
 ],
 "metadata": {
  "kernelspec": {
   "display_name": "Python 3",
   "language": "python",
   "name": "python3"
  },
  "language_info": {
   "codemirror_mode": {
    "name": "ipython",
    "version": 3
   },
   "file_extension": ".py",
   "mimetype": "text/x-python",
   "name": "python",
   "nbconvert_exporter": "python",
   "pygments_lexer": "ipython3",
   "version": "3.11.3"
  },
  "orig_nbformat": 4
 },
 "nbformat": 4,
 "nbformat_minor": 2
}
