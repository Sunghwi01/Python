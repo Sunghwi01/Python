{
 "cells": [
  {
   "cell_type": "markdown",
   "metadata": {},
   "source": [
    "## 파일 경로를 객체로 다루기\n",
    "\n",
    "### `pathlib`"
   ]
  },
  {
   "cell_type": "code",
   "execution_count": 1,
   "metadata": {},
   "outputs": [],
   "source": [
    "import glob\n",
    "import os\n",
    "import shutil\n",
    "\n",
    "for file_path in glob.glob('%s/*.txt' % os.getcwd()):\n",
    "    parent = os.path.dirname(file_path)\n",
    "    filename = os.path.basename(file_path)\n",
    "    new_path = os.path.join(parent, 'archive', filename)\n",
    "    shutil.move(file_path, new_path)"
   ]
  },
  {
   "cell_type": "markdown",
   "metadata": {},
   "source": [
    "- 위 함수에서 glob, os, shutil 대신 pathlib만 사용하도록 수정하기"
   ]
  },
  {
   "cell_type": "code",
   "execution_count": 2,
   "metadata": {},
   "outputs": [],
   "source": [
    "import pathlib\n",
    "\n",
    "for p in pathlib.Path.cwd().glob('*.txt'):\n",
    "    new_p = p.parent.joinpath('archive', p.name)\n",
    "    p.replace(new_p)"
   ]
  },
  {
   "cell_type": "markdown",
   "metadata": {},
   "source": [
    "- `pathlib`\n",
    "을 사용하지 않은 코드와 사용한 코드 비교\n",
    "\n",
    "    - `os.getcwd` -> `p.cwd`\n",
    "    - `glob.glob` -> `p.glob`\n",
    "    - `os.path.dirname` -> `p.parent`\n",
    "    - `os.path.basename` -> `p.name`\n",
    "    - `os.path.join` -> `p.joinpath`\n",
    "    - `shutil.move` -> `p.replace`"
   ]
  },
  {
   "cell_type": "code",
   "execution_count": 3,
   "metadata": {},
   "outputs": [],
   "source": [
    "def search(dirname):\n",
    "    for p in pathlib.Path(dirname).rglob('*.py'):\n",
    "        print(p)\n",
    "        \n",
    "search(\"c:\\projects\\pylib\")"
   ]
  },
  {
   "cell_type": "markdown",
   "metadata": {},
   "source": [
    "## 여러개의 파일 한꺼번에 읽기\n",
    "\n",
    "### `fileinput`"
   ]
  },
  {
   "cell_type": "code",
   "execution_count": 5,
   "metadata": {},
   "outputs": [],
   "source": [
    "import fileinput\n",
    "import glob\n",
    "\n",
    "with fileinput.input(glob.glob(\"*.txt\")) as f:\n",
    "    for line in f:\n",
    "        print(line)"
   ]
  },
  {
   "cell_type": "markdown",
   "metadata": {},
   "source": [
    "## 디렉터리와 파일 비교\n",
    "\n",
    "### `filecmp`"
   ]
  },
  {
   "cell_type": "markdown",
   "metadata": {},
   "source": [
    "- 예제)<br>\n",
    "a 디렉터리에만 있고 b 디렉터리에는 없으면 a:파일명 으로 출력<br>\n",
    "b 디렉터리에만 있고 a 디레거리에는 없으면 b:파일명 으로 출력<br>\n",
    "a 디렉터리와 b 디렉터리에는 모두 있으나 파일 내용이 서로 다르면 x:파일명 으로 출력"
   ]
  },
  {
   "cell_type": "code",
   "execution_count": null,
   "metadata": {},
   "outputs": [],
   "source": [
    "import filecmp\n",
    "\n",
    "fd = filecmp.dircmp('a', 'b')\n",
    "\n",
    "for a in fd.left_only:\n",
    "    print(\"a: %s\" % a)\n",
    "    \n",
    "for b in fd.right_only:\n",
    "    print(\"b: %s\" % b)\n",
    "    \n",
    "for x in fd.diff_files:\n",
    "    print(\"x: %s\" % x)"
   ]
  },
  {
   "cell_type": "markdown",
   "metadata": {},
   "source": [
    "## 임시로 만든 파일 이용하기\n",
    "\n",
    "### `tempfile`"
   ]
  },
  {
   "cell_type": "code",
   "execution_count": 4,
   "metadata": {},
   "outputs": [],
   "source": [
    "def sumfile(f):\n",
    "    result = 0\n",
    "    for line in f.readlines():\n",
    "        num = int(line)\n",
    "        result += num\n",
    "    return result"
   ]
  },
  {
   "cell_type": "code",
   "execution_count": 11,
   "metadata": {},
   "outputs": [
    {
     "name": "stdout",
     "output_type": "stream",
     "text": [
      "459\n"
     ]
    }
   ],
   "source": [
    "import random\n",
    "import tempfile\n",
    "\n",
    "## 1~100 까지의 수중 10개를 무작위로 골라 더하기\n",
    "\n",
    "def sumfile(f):\n",
    "    result = 0\n",
    "    for line in f.readlines():\n",
    "        num = int(line)\n",
    "        result += num\n",
    "    return result\n",
    "\n",
    "tf = tempfile.TemporaryFile(mode='w+')\n",
    "for i in range(10):\n",
    "    num = random.randint(1,100)\n",
    "    tf.write(str(num))\n",
    "    tf.write(\"\\n\")\n",
    "    \n",
    "tf.seek(0)\n",
    "result = sumfile(tf)\n",
    "tf.close()\n",
    "\n",
    "print(result)"
   ]
  },
  {
   "cell_type": "markdown",
   "metadata": {},
   "source": [
    "## 파일 찾기\n",
    "\n",
    "### `glob`"
   ]
  },
  {
   "cell_type": "code",
   "execution_count": 13,
   "metadata": {},
   "outputs": [],
   "source": [
    "import glob\n",
    "\n",
    "for filename in glob.glob(\"**/*.txt\", recursive=True):\n",
    "    print(filename)"
   ]
  },
  {
   "cell_type": "markdown",
   "metadata": {},
   "source": [
    "## 특정 파일만 찾기\n",
    "\n",
    "### `fnmatch`"
   ]
  },
  {
   "cell_type": "markdown",
   "metadata": {},
   "source": [
    "- 예제)<br>\n",
    "    - 다음 규칙을 따르는 파일을 모두 찾아 출력하고자 한다\n",
    "        - 파일명은 a로 시작한다\n",
    "        - 확장자는 파이썬 파일을 의미하는 .py이다.\n",
    "        - 확장자를 제외한 파일명의 길이는 5이다.\n",
    "        - 파일명의 마지막 5번째 문자는 숫자이다."
   ]
  },
  {
   "cell_type": "code",
   "execution_count": 14,
   "metadata": {},
   "outputs": [],
   "source": [
    "import fnmatch\n",
    "import os\n",
    "\n",
    "for filename in os.listdir('.'):\n",
    "    if fnmatch.fnmatch(filename, 'a???[0-9].py'):\n",
    "        print(filename)"
   ]
  },
  {
   "cell_type": "markdown",
   "metadata": {},
   "source": [
    "- fnmatch<br>\n",
    "    - *** : 모든 것과 일치\n",
    "    - ? : 모든 단일 문자와 일치\n",
    "    - [seq] : seq의 모든 문자와 일치\n",
    "    - [!seq] : seq에 없는 모든 문자와 일치"
   ]
  },
  {
   "cell_type": "markdown",
   "metadata": {},
   "source": [
    "## 파일에서 무작위로 한 줄만 가져오기\n",
    "\n",
    "### `linecache`"
   ]
  },
  {
   "cell_type": "code",
   "execution_count": 20,
   "metadata": {},
   "outputs": [
    {
     "name": "stdout",
     "output_type": "stream",
     "text": [
      "마른 하늘에 날벼락\n",
      "\n"
     ]
    }
   ],
   "source": [
    "import linecache\n",
    "import random\n",
    "\n",
    "no = random.randint(1, 100)\n",
    "print(linecache.getline('./txt/saying.txt', no))"
   ]
  },
  {
   "cell_type": "markdown",
   "metadata": {},
   "source": [
    "## 파일을 복사하거나 이동하기\n",
    "\n",
    "### `shutil`"
   ]
  },
  {
   "cell_type": "markdown",
   "metadata": {},
   "source": [
    "`import shutil`\n",
    "\n",
    "`shutil.copy(a,b)`"
   ]
  }
 ],
 "metadata": {
  "kernelspec": {
   "display_name": "Python 3",
   "language": "python",
   "name": "python3"
  },
  "language_info": {
   "codemirror_mode": {
    "name": "ipython",
    "version": 3
   },
   "file_extension": ".py",
   "mimetype": "text/x-python",
   "name": "python",
   "nbconvert_exporter": "python",
   "pygments_lexer": "ipython3",
   "version": "3.11.3"
  },
  "orig_nbformat": 4
 },
 "nbformat": 4,
 "nbformat_minor": 2
}
